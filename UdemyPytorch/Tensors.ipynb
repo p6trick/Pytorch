{
 "cells": [
  {
   "cell_type": "code",
   "execution_count": 1,
   "id": "54dba9f0-c504-4533-8cab-497cc4b7ac9f",
   "metadata": {},
   "outputs": [
    {
     "data": {
      "text/plain": [
       "'1.13.1'"
      ]
     },
     "execution_count": 1,
     "metadata": {},
     "output_type": "execute_result"
    }
   ],
   "source": [
    "import torch\n",
    "torch.__version__"
   ]
  },
  {
   "cell_type": "markdown",
   "id": "8f946f2c-5e3f-4aa6-b07a-68385e72f7ce",
   "metadata": {},
   "source": [
    "## Getting information from tensors\n",
    "\n",
    "1. Tensors not right datatype - to do get datatype from a tensor, can use `tensor.dtype` \n",
    "2. to get shape from a tensor, can use `tenssor.shape`\n",
    "3. to get device from a tensor, can use `tensor.device`"
   ]
  },
  {
   "cell_type": "code",
   "execution_count": 3,
   "id": "b5dc8f13-43d3-4419-b11c-3a2373e0d4f4",
   "metadata": {},
   "outputs": [
    {
     "data": {
      "text/plain": [
       "tensor([[0.7270, 0.7193, 0.8589, 0.1749],\n",
       "        [0.8376, 0.1742, 0.2271, 0.9332],\n",
       "        [0.7124, 0.9096, 0.9646, 0.6465]])"
      ]
     },
     "execution_count": 3,
     "metadata": {},
     "output_type": "execute_result"
    }
   ],
   "source": [
    "some_tensor = torch.rand(3,4)\n",
    "some_tensor"
   ]
  },
  {
   "cell_type": "code",
   "execution_count": 4,
   "id": "bdd03195-f880-4f1b-90d5-dbfed0c4eb7e",
   "metadata": {},
   "outputs": [
    {
     "name": "stdout",
     "output_type": "stream",
     "text": [
      "torch.float32\n",
      "torch.Size([3, 4])\n",
      "cpu\n"
     ]
    }
   ],
   "source": [
    "print(some_tensor.dtype)\n",
    "print(some_tensor.shape)\n",
    "print(some_tensor.device)"
   ]
  },
  {
   "cell_type": "markdown",
   "id": "dd3bfdc3-8d6a-4ae6-a0aa-e9be1d00e3a8",
   "metadata": {},
   "source": [
    "### Manipulating Tensors (tensosr operations)\n",
    "\n",
    "Tensor operations include:\n",
    "* Addition\n",
    "* Subtraction\n",
    "* Multiplication (element-wise)\n",
    "* Division\n",
    "* Matrix multiplication"
   ]
  },
  {
   "cell_type": "code",
   "execution_count": 6,
   "id": "17943843-b3f3-4962-a192-14c3228f4ce1",
   "metadata": {},
   "outputs": [
    {
     "name": "stdout",
     "output_type": "stream",
     "text": [
      "torch.int64\n"
     ]
    },
    {
     "data": {
      "text/plain": [
       "tensor([11, 12, 13])"
      ]
     },
     "execution_count": 6,
     "metadata": {},
     "output_type": "execute_result"
    }
   ],
   "source": [
    "# Create Tensors\n",
    "\n",
    "tensor = torch.tensor([1,2,3])\n",
    "print(tensor.dtype)\n",
    "tensor + 10"
   ]
  },
  {
   "cell_type": "code",
   "execution_count": 12,
   "id": "a5f9a09c-a8ff-4c41-9045-11d5b6520d65",
   "metadata": {},
   "outputs": [
    {
     "data": {
      "text/plain": [
       "tensor([10, 20, 30])"
      ]
     },
     "execution_count": 12,
     "metadata": {},
     "output_type": "execute_result"
    }
   ],
   "source": [
    "# Multiply tensor (element-wise)\n",
    "\n",
    "tensor * 10"
   ]
  },
  {
   "cell_type": "code",
   "execution_count": 9,
   "id": "c9991aa4-5c63-4df9-836c-92b2018ffc94",
   "metadata": {},
   "outputs": [
    {
     "data": {
      "text/plain": [
       "tensor([-9, -8, -7])"
      ]
     },
     "execution_count": 9,
     "metadata": {},
     "output_type": "execute_result"
    }
   ],
   "source": [
    "# Subtract\n",
    "\n",
    "tensor - 10"
   ]
  },
  {
   "cell_type": "code",
   "execution_count": 11,
   "id": "56e251d0-f13c-4629-9c9a-85ee52667fed",
   "metadata": {},
   "outputs": [
    {
     "name": "stdout",
     "output_type": "stream",
     "text": [
      "tensor([10, 20, 30])\n",
      "tensor([11, 12, 13])\n"
     ]
    }
   ],
   "source": [
    "# try out Pytorch in-built functions\n",
    "\n",
    "print(torch.mul(tensor,10))\n",
    "print(torch.add(tensor,10))"
   ]
  },
  {
   "cell_type": "markdown",
   "id": "02e254f4-18c3-4dec-abc3-0b861a6a28ac",
   "metadata": {},
   "source": [
    "### Matrix multiplication (dot product)\n",
    "\n",
    "There are two rules\n",
    "1. the **inner dimensions** must match:\n",
    "* `(3,2) @ (3,2)` won't work\n",
    "* `(3,2) @ (2,3)` will work\n",
    "2. The resulting matrix has the shape of the **outer dimension**:\n",
    "* `(2,3) @ (3,2) = (2,2)`"
   ]
  },
  {
   "cell_type": "code",
   "execution_count": 14,
   "id": "f75ad390-46a7-4821-b84b-7d918a736250",
   "metadata": {},
   "outputs": [
    {
     "name": "stdout",
     "output_type": "stream",
     "text": [
      "tensor([1, 2, 3])\n",
      "tensor([1, 4, 9])\n"
     ]
    }
   ],
   "source": [
    "# element-wise \n",
    "print(tensor)\n",
    "print(tensor * tensor)"
   ]
  },
  {
   "cell_type": "code",
   "execution_count": 15,
   "id": "ca74fcb6-3404-4671-a8aa-e7ed0062cc18",
   "metadata": {},
   "outputs": [
    {
     "name": "stdout",
     "output_type": "stream",
     "text": [
      "tensor(14)\n"
     ]
    }
   ],
   "source": [
    "# dot product\n",
    "\n",
    "print(torch.matmul(tensor,tensor))"
   ]
  },
  {
   "cell_type": "code",
   "execution_count": 26,
   "id": "2dacc9ab-2aff-4e3b-b760-db41caf9b5fa",
   "metadata": {},
   "outputs": [
    {
     "name": "stdout",
     "output_type": "stream",
     "text": [
      "torch.Size([3, 4])\n",
      "torch.Size([4, 2])\n",
      "tensor([[1.8878, 0.9233],\n",
      "        [1.6709, 1.4053],\n",
      "        [2.4847, 1.3423]])\n",
      "torch.Size([3, 2])\n",
      "CPU times: user 2.38 ms, sys: 1.67 ms, total: 4.05 ms\n",
      "Wall time: 2.6 ms\n"
     ]
    }
   ],
   "source": [
    "%%time\n",
    "print(some_tensor.shape)\n",
    "some_tensor1 = torch.rand(4,2)\n",
    "print(some_tensor1.shape)\n",
    "\n",
    "print(torch.matmul(some_tensor,some_tensor1))\n",
    "print(torch.matmul(some_tensor,some_tensor1).shape)"
   ]
  },
  {
   "cell_type": "code",
   "execution_count": 22,
   "id": "9773ca03-c8fd-4ff2-8918-d5571705ee20",
   "metadata": {},
   "outputs": [
    {
     "name": "stdout",
     "output_type": "stream",
     "text": [
      "CPU times: user 1.32 ms, sys: 1.54 ms, total: 2.86 ms\n",
      "Wall time: 2.17 ms\n"
     ]
    },
    {
     "data": {
      "text/plain": [
       "tensor(14)"
      ]
     },
     "execution_count": 22,
     "metadata": {},
     "output_type": "execute_result"
    }
   ],
   "source": [
    "%%time\n",
    "value = 0\n",
    "for i in range(len(tensor)):\n",
    "    value += tensor[i] * tensor[i]\n",
    "value"
   ]
  },
  {
   "cell_type": "code",
   "execution_count": 25,
   "id": "1f5cd270-29a1-4ca1-b0ff-43d39edfc91d",
   "metadata": {},
   "outputs": [
    {
     "name": "stdout",
     "output_type": "stream",
     "text": [
      "CPU times: user 37 µs, sys: 5 µs, total: 42 µs\n",
      "Wall time: 47 µs\n"
     ]
    },
    {
     "data": {
      "text/plain": [
       "tensor(14)"
      ]
     },
     "execution_count": 25,
     "metadata": {},
     "output_type": "execute_result"
    }
   ],
   "source": [
    "%%time\n",
    "\n",
    "torch.matmul(tensor,tensor)"
   ]
  },
  {
   "cell_type": "code",
   "execution_count": 27,
   "id": "0eba8553-f6b0-4eab-8d7e-22b7acc328f8",
   "metadata": {},
   "outputs": [
    {
     "data": {
      "text/plain": [
       "tensor([[24.5067, 26.3759, 26.5329],\n",
       "        [26.8635, 28.0669, 25.3205]])"
      ]
     },
     "execution_count": 27,
     "metadata": {},
     "output_type": "execute_result"
    }
   ],
   "source": [
    "torch.matmul(torch.rand(2,100),torch.rand(100,3))"
   ]
  },
  {
   "cell_type": "markdown",
   "id": "6204b47f-679a-4aee-9997-ebe597b17575",
   "metadata": {},
   "source": [
    "### shape errors"
   ]
  },
  {
   "cell_type": "code",
   "execution_count": 30,
   "id": "7af205c8-1e39-4171-8597-4afb0fc86299",
   "metadata": {},
   "outputs": [
    {
     "name": "stdout",
     "output_type": "stream",
     "text": [
      "A shape : torch.Size([3, 2])\n",
      "B shape : torch.Size([3, 2])\n"
     ]
    },
    {
     "ename": "RuntimeError",
     "evalue": "mat1 and mat2 shapes cannot be multiplied (3x2 and 3x2)",
     "output_type": "error",
     "traceback": [
      "\u001b[0;31m---------------------------------------------------------------------------\u001b[0m",
      "\u001b[0;31mRuntimeError\u001b[0m                              Traceback (most recent call last)",
      "Cell \u001b[0;32mIn[30], line 11\u001b[0m\n\u001b[1;32m      9\u001b[0m \u001b[38;5;28mprint\u001b[39m(\u001b[38;5;124mf\u001b[39m\u001b[38;5;124m'\u001b[39m\u001b[38;5;124mA shape : \u001b[39m\u001b[38;5;132;01m{\u001b[39;00mtensor_A\u001b[38;5;241m.\u001b[39mshape\u001b[38;5;132;01m}\u001b[39;00m\u001b[38;5;124m'\u001b[39m)\n\u001b[1;32m     10\u001b[0m \u001b[38;5;28mprint\u001b[39m(\u001b[38;5;124mf\u001b[39m\u001b[38;5;124m'\u001b[39m\u001b[38;5;124mB shape : \u001b[39m\u001b[38;5;132;01m{\u001b[39;00mtensor_B\u001b[38;5;241m.\u001b[39mshape\u001b[38;5;132;01m}\u001b[39;00m\u001b[38;5;124m'\u001b[39m)\n\u001b[0;32m---> 11\u001b[0m \u001b[43mtorch\u001b[49m\u001b[38;5;241;43m.\u001b[39;49m\u001b[43mmm\u001b[49m\u001b[43m(\u001b[49m\u001b[43mtensor_A\u001b[49m\u001b[43m,\u001b[49m\u001b[43mtensor_B\u001b[49m\u001b[43m)\u001b[49m\n",
      "\u001b[0;31mRuntimeError\u001b[0m: mat1 and mat2 shapes cannot be multiplied (3x2 and 3x2)"
     ]
    }
   ],
   "source": [
    "# Shapes for matrix multiplications\n",
    "\n",
    "tensor_A = torch.tensor([[1,2],\n",
    "                        [3,4],\n",
    "                        [5,6]])\n",
    "tensor_B = torch.tensor([[7,10],\n",
    "                         [8,11],\n",
    "                        [9,12]])\n",
    "print(f'A shape : {tensor_A.shape}')\n",
    "print(f'B shape : {tensor_B.shape}')\n",
    "torch.mm(tensor_A,tensor_B)"
   ]
  },
  {
   "cell_type": "markdown",
   "id": "ac690cd9-2c1f-4c67-a14e-c9115101952e",
   "metadata": {},
   "source": [
    "### Manipulate the shape of tensors\n",
    "\n",
    "A **transpose** switches the axes or dimensions"
   ]
  },
  {
   "cell_type": "code",
   "execution_count": 35,
   "id": "1ffff966-6108-4a3b-92a4-65fe72f3f90a",
   "metadata": {},
   "outputs": [
    {
     "data": {
      "text/plain": [
       "tensor([[ 7, 10],\n",
       "        [ 8, 11],\n",
       "        [ 9, 12]])"
      ]
     },
     "execution_count": 35,
     "metadata": {},
     "output_type": "execute_result"
    }
   ],
   "source": [
    "tensor_B"
   ]
  },
  {
   "cell_type": "code",
   "execution_count": 34,
   "id": "b7027fe4-cd87-4209-bac6-c14f082b574f",
   "metadata": {},
   "outputs": [
    {
     "data": {
      "text/plain": [
       "(tensor([[ 7,  8,  9],\n",
       "         [10, 11, 12]]),\n",
       " torch.Size([2, 3]))"
      ]
     },
     "execution_count": 34,
     "metadata": {},
     "output_type": "execute_result"
    }
   ],
   "source": [
    "tensor_B.T,tensor_B.T.shape"
   ]
  },
  {
   "cell_type": "code",
   "execution_count": 33,
   "id": "3b068a62-52c6-49f4-b5ad-9b3d3becff57",
   "metadata": {},
   "outputs": [
    {
     "data": {
      "text/plain": [
       "(tensor([[ 27,  30,  33],\n",
       "         [ 61,  68,  75],\n",
       "         [ 95, 106, 117]]),\n",
       " torch.Size([3, 3]))"
      ]
     },
     "execution_count": 33,
     "metadata": {},
     "output_type": "execute_result"
    }
   ],
   "source": [
    "torch.mm(tensor_A, tensor_B.T),torch.mm(tensor_A, tensor_B.T).shape "
   ]
  },
  {
   "cell_type": "markdown",
   "id": "4971a680-7e12-400a-b43f-2c4aa805ea28",
   "metadata": {},
   "source": [
    "### Tensor aggregation\n",
    "- min, max, mean, sum, etc"
   ]
  },
  {
   "cell_type": "code",
   "execution_count": 42,
   "id": "5648ab96-7314-4782-bc15-8305a90f2eb5",
   "metadata": {},
   "outputs": [
    {
     "data": {
      "text/plain": [
       "(tensor([ 0, 10, 20, 30, 40, 50, 60, 70, 80, 90]), torch.int64)"
      ]
     },
     "execution_count": 42,
     "metadata": {},
     "output_type": "execute_result"
    }
   ],
   "source": [
    "x = torch.arange(0,100,10)\n",
    "x, x.dtype"
   ]
  },
  {
   "cell_type": "code",
   "execution_count": 38,
   "id": "eeb33e81-4335-4e35-a80a-fa82167ed42a",
   "metadata": {},
   "outputs": [
    {
     "data": {
      "text/plain": [
       "(tensor(0), tensor(0))"
      ]
     },
     "execution_count": 38,
     "metadata": {},
     "output_type": "execute_result"
    }
   ],
   "source": [
    "torch.min(x), x.min()"
   ]
  },
  {
   "cell_type": "code",
   "execution_count": 39,
   "id": "51e63bb6-52e0-4ab8-8f8f-8f226083ce0d",
   "metadata": {},
   "outputs": [
    {
     "data": {
      "text/plain": [
       "(tensor(90), tensor(90))"
      ]
     },
     "execution_count": 39,
     "metadata": {},
     "output_type": "execute_result"
    }
   ],
   "source": [
    "torch.max(x), x.max()"
   ]
  },
  {
   "cell_type": "code",
   "execution_count": 43,
   "id": "7eee83a8-da5d-4df5-a087-bc30cff602e2",
   "metadata": {},
   "outputs": [
    {
     "data": {
      "text/plain": [
       "(tensor(45.), tensor(45.))"
      ]
     },
     "execution_count": 43,
     "metadata": {},
     "output_type": "execute_result"
    }
   ],
   "source": [
    "torch.mean(x.type(torch.float32)), x.type(torch.float32).mean()"
   ]
  },
  {
   "cell_type": "code",
   "execution_count": 44,
   "id": "cbb1bd33-83b4-4864-8cac-5e9b54fc0099",
   "metadata": {},
   "outputs": [
    {
     "data": {
      "text/plain": [
       "(tensor(450), tensor(450))"
      ]
     },
     "execution_count": 44,
     "metadata": {},
     "output_type": "execute_result"
    }
   ],
   "source": [
    "torch.sum(x), x.sum()"
   ]
  },
  {
   "cell_type": "markdown",
   "id": "e2a00820-1485-4e84-9d51-2cf35e4aff21",
   "metadata": {},
   "source": [
    "### Finding the positional min and max"
   ]
  },
  {
   "cell_type": "code",
   "execution_count": 47,
   "id": "ef386eec-817c-44ef-b15a-4bb596dfcbed",
   "metadata": {},
   "outputs": [
    {
     "data": {
      "text/plain": [
       "(tensor(0), tensor(0))"
      ]
     },
     "execution_count": 47,
     "metadata": {},
     "output_type": "execute_result"
    }
   ],
   "source": [
    "x.argmin(),torch.argmin(x)"
   ]
  },
  {
   "cell_type": "code",
   "execution_count": 48,
   "id": "d9bdb0cc-7e49-4d00-b306-8f51e6d19d32",
   "metadata": {},
   "outputs": [
    {
     "data": {
      "text/plain": [
       "(tensor(9), tensor(9))"
      ]
     },
     "execution_count": 48,
     "metadata": {},
     "output_type": "execute_result"
    }
   ],
   "source": [
    "x.argmax(), torch.argmax(x)"
   ]
  },
  {
   "cell_type": "code",
   "execution_count": 49,
   "id": "44941ae2-1226-4f61-9ccc-27c285540f67",
   "metadata": {},
   "outputs": [
    {
     "data": {
      "text/plain": [
       "tensor(0)"
      ]
     },
     "execution_count": 49,
     "metadata": {},
     "output_type": "execute_result"
    }
   ],
   "source": [
    "x[x.argmin()]"
   ]
  },
  {
   "cell_type": "code",
   "execution_count": 50,
   "id": "7e2d7f4d-d595-4a39-a17a-bb128521ccdb",
   "metadata": {},
   "outputs": [
    {
     "data": {
      "text/plain": [
       "tensor(90)"
      ]
     },
     "execution_count": 50,
     "metadata": {},
     "output_type": "execute_result"
    }
   ],
   "source": [
    "x[x.argmax()]"
   ]
  },
  {
   "cell_type": "markdown",
   "id": "6b8a41ce-04c5-4b5f-9532-0c247bf0c35c",
   "metadata": {},
   "source": [
    "### Reshaping stacking squeezing unsqueezing tensors\n",
    "\n",
    "* Reshaping - reshapes an input tensor to a defined shape\n",
    "* View - Return a view of an input tensor of certain shape but keep the same memory as the original tensor\n",
    "* Stacking - combine multiple tensor on top of each other (vstack) or side by side (hstack)\n",
    "* Squeeze - removes all `1` dimensions from a tensor\n",
    "* Unsqueeze - add a `1` dimension to a target tensor\n",
    "* Permute - Return a view of the input with dimensions permuted (swapped) in a certain way"
   ]
  },
  {
   "cell_type": "code",
   "execution_count": 67,
   "id": "90dfe224-06fa-4e8b-b18f-125c8b4b9809",
   "metadata": {},
   "outputs": [
    {
     "data": {
      "text/plain": [
       "(tensor([1., 2., 3., 4., 5., 6., 7., 8., 9.]), torch.Size([9]))"
      ]
     },
     "execution_count": 67,
     "metadata": {},
     "output_type": "execute_result"
    }
   ],
   "source": [
    "x = torch.arange(1.,10.)\n",
    "x, x.shape"
   ]
  },
  {
   "cell_type": "code",
   "execution_count": 53,
   "id": "68ff50a3-58a3-4a8c-bc2c-349a5772517a",
   "metadata": {},
   "outputs": [
    {
     "ename": "RuntimeError",
     "evalue": "shape '[1, 7]' is invalid for input of size 9",
     "output_type": "error",
     "traceback": [
      "\u001b[0;31m---------------------------------------------------------------------------\u001b[0m",
      "\u001b[0;31mRuntimeError\u001b[0m                              Traceback (most recent call last)",
      "Cell \u001b[0;32mIn[53], line 1\u001b[0m\n\u001b[0;32m----> 1\u001b[0m x_reshaped \u001b[38;5;241m=\u001b[39m \u001b[43mx\u001b[49m\u001b[38;5;241;43m.\u001b[39;49m\u001b[43mreshape\u001b[49m\u001b[43m(\u001b[49m\u001b[38;5;241;43m1\u001b[39;49m\u001b[43m,\u001b[49m\u001b[38;5;241;43m7\u001b[39;49m\u001b[43m)\u001b[49m\n",
      "\u001b[0;31mRuntimeError\u001b[0m: shape '[1, 7]' is invalid for input of size 9"
     ]
    }
   ],
   "source": [
    "x_reshaped = x.reshape(1,7)"
   ]
  },
  {
   "cell_type": "code",
   "execution_count": 68,
   "id": "5479d602-382f-4170-a661-3bc9d458e034",
   "metadata": {},
   "outputs": [
    {
     "data": {
      "text/plain": [
       "torch.Size([1, 9, 1, 1])"
      ]
     },
     "execution_count": 68,
     "metadata": {},
     "output_type": "execute_result"
    }
   ],
   "source": [
    "x_reshaped = x.reshape(1,9,1,1)\n",
    "x_reshaped.shape"
   ]
  },
  {
   "cell_type": "code",
   "execution_count": 69,
   "id": "a8e2928a-51e2-4ae9-922e-a0178418f41a",
   "metadata": {},
   "outputs": [
    {
     "data": {
      "text/plain": [
       "torch.Size([9, 1])"
      ]
     },
     "execution_count": 69,
     "metadata": {},
     "output_type": "execute_result"
    }
   ],
   "source": [
    "x_view = x.view(9,1)\n",
    "x_view.shape"
   ]
  },
  {
   "cell_type": "code",
   "execution_count": 64,
   "id": "ebd48476-b6cd-4256-819f-48d21723773e",
   "metadata": {},
   "outputs": [
    {
     "data": {
      "text/plain": [
       "(tensor([[5.],\n",
       "         [5.],\n",
       "         [5.],\n",
       "         [5.],\n",
       "         [5.],\n",
       "         [5.],\n",
       "         [5.],\n",
       "         [5.],\n",
       "         [5.]]),\n",
       " tensor([5., 5., 5., 5., 5., 5., 5., 5., 5.]),\n",
       " tensor([[[[5.]],\n",
       " \n",
       "          [[5.]],\n",
       " \n",
       "          [[5.]],\n",
       " \n",
       "          [[5.]],\n",
       " \n",
       "          [[5.]],\n",
       " \n",
       "          [[5.]],\n",
       " \n",
       "          [[5.]],\n",
       " \n",
       "          [[5.]],\n",
       " \n",
       "          [[5.]]]]))"
      ]
     },
     "execution_count": 64,
     "metadata": {},
     "output_type": "execute_result"
    }
   ],
   "source": [
    "x_view[:,0] = 5\n",
    "x_view, x, x_reshaped"
   ]
  },
  {
   "cell_type": "code",
   "execution_count": 70,
   "id": "aa440662-f155-4758-a337-696379d11065",
   "metadata": {},
   "outputs": [
    {
     "data": {
      "text/plain": [
       "tensor([[1., 1., 1., 1.],\n",
       "        [2., 2., 2., 2.],\n",
       "        [3., 3., 3., 3.],\n",
       "        [4., 4., 4., 4.],\n",
       "        [5., 5., 5., 5.],\n",
       "        [6., 6., 6., 6.],\n",
       "        [7., 7., 7., 7.],\n",
       "        [8., 8., 8., 8.],\n",
       "        [9., 9., 9., 9.]])"
      ]
     },
     "execution_count": 70,
     "metadata": {},
     "output_type": "execute_result"
    }
   ],
   "source": [
    "# Stack tensors on top of each other\n",
    "\n",
    "x_stacked = torch.stack([x,x,x,x],dim=1)\n",
    "x_stacked"
   ]
  },
  {
   "cell_type": "code",
   "execution_count": 85,
   "id": "2bb16742-98cc-47fa-a157-320e8872acef",
   "metadata": {},
   "outputs": [
    {
     "name": "stdout",
     "output_type": "stream",
     "text": [
      "torch.Size([9])\n",
      "torch.Size([9, 1])\n"
     ]
    }
   ],
   "source": [
    "# Squeeze Unsqeeze\n",
    "\n",
    "print(x.shape)\n",
    "x_unsqueeze = x.unsqueeze(dim=1)\n",
    "print(x_unsqueeze.shape)"
   ]
  },
  {
   "cell_type": "code",
   "execution_count": 86,
   "id": "cee63396-99fd-49e6-a1b5-e167d1d42eb2",
   "metadata": {},
   "outputs": [
    {
     "name": "stdout",
     "output_type": "stream",
     "text": [
      "torch.Size([9, 1])\n",
      "torch.Size([9])\n"
     ]
    }
   ],
   "source": [
    "print(x_unsqueeze.shape)\n",
    "x_squeeze  = x_unsqueeze.squeeze()\n",
    "print(x_squeeze.shape)\n"
   ]
  },
  {
   "cell_type": "code",
   "execution_count": 90,
   "id": "82f905af-27f1-4f4d-a2e9-37a9a891ce77",
   "metadata": {},
   "outputs": [
    {
     "name": "stdout",
     "output_type": "stream",
     "text": [
      "torch.Size([224, 224, 3])\n",
      "torch.Size([3, 224, 224])\n"
     ]
    }
   ],
   "source": [
    "## torch.permute - rearrange the dimensions of a target tensor in a specifed order\n",
    "\n",
    "x_original = torch.rand(size=(224,224,3))\n",
    "print(x_original.shape)\n",
    "x_permute = x_original.permute(2,0,1)\n",
    "print(x_permute.shape)\n"
   ]
  },
  {
   "cell_type": "markdown",
   "id": "821b9eca-13f5-401b-a201-4536dd5e1192",
   "metadata": {},
   "source": [
    "## Indexing (selecting data from tensors)\n",
    "\n",
    "Indexing with Pytorch is similar to indexing with NumPy."
   ]
  },
  {
   "cell_type": "code",
   "execution_count": 3,
   "id": "7383eb51-72dd-4110-a47b-7d4614969ec9",
   "metadata": {},
   "outputs": [
    {
     "data": {
      "text/plain": [
       "(tensor([[[1, 2, 3],\n",
       "          [4, 5, 6],\n",
       "          [7, 8, 9]]]),\n",
       " torch.Size([1, 3, 3]))"
      ]
     },
     "execution_count": 3,
     "metadata": {},
     "output_type": "execute_result"
    }
   ],
   "source": [
    "import torch\n",
    "\n",
    "x = torch.arange(1, 10).reshape(1,3,3)\n",
    "x, x.shape"
   ]
  },
  {
   "cell_type": "code",
   "execution_count": 8,
   "id": "82fa0fb0-304a-4f72-a46b-5b5d432a26bd",
   "metadata": {},
   "outputs": [
    {
     "data": {
      "text/plain": [
       "tensor([[1, 2, 3],\n",
       "        [4, 5, 6],\n",
       "        [7, 8, 9]])"
      ]
     },
     "execution_count": 8,
     "metadata": {},
     "output_type": "execute_result"
    }
   ],
   "source": [
    "x[0]"
   ]
  },
  {
   "cell_type": "code",
   "execution_count": 10,
   "id": "02463704-0a9b-48f8-8e5d-db1102b7e788",
   "metadata": {},
   "outputs": [
    {
     "data": {
      "text/plain": [
       "(tensor([1, 2, 3]), tensor([1, 2, 3]))"
      ]
     },
     "execution_count": 10,
     "metadata": {},
     "output_type": "execute_result"
    }
   ],
   "source": [
    "x[0][0], x[0,0]"
   ]
  },
  {
   "cell_type": "code",
   "execution_count": 11,
   "id": "560b2c1e-49bf-4c0c-91e4-b28bfaea5d2b",
   "metadata": {},
   "outputs": [
    {
     "data": {
      "text/plain": [
       "(tensor(1), tensor(1))"
      ]
     },
     "execution_count": 11,
     "metadata": {},
     "output_type": "execute_result"
    }
   ],
   "source": [
    "x[0][0][0], x[0,0,0]"
   ]
  },
  {
   "cell_type": "code",
   "execution_count": 12,
   "id": "5b90750b-f1e5-4b8b-bc5c-37f1dcfadc43",
   "metadata": {},
   "outputs": [
    {
     "data": {
      "text/plain": [
       "tensor([[1, 2, 3]])"
      ]
     },
     "execution_count": 12,
     "metadata": {},
     "output_type": "execute_result"
    }
   ],
   "source": [
    "x[:,0]"
   ]
  },
  {
   "cell_type": "code",
   "execution_count": 13,
   "id": "4dfd5460-bf00-4d70-9acb-3f298ac59c44",
   "metadata": {},
   "outputs": [
    {
     "data": {
      "text/plain": [
       "tensor([[2, 5, 8]])"
      ]
     },
     "execution_count": 13,
     "metadata": {},
     "output_type": "execute_result"
    }
   ],
   "source": [
    "# You can also use \":\" to select \"all\" of a target dimension\n",
    "\n",
    "x[:,:,1]"
   ]
  },
  {
   "cell_type": "code",
   "execution_count": 15,
   "id": "59c385e5-80ba-4bc9-be09-e1596f337f76",
   "metadata": {},
   "outputs": [
    {
     "data": {
      "text/plain": [
       "tensor([[4, 5, 6]])"
      ]
     },
     "execution_count": 15,
     "metadata": {},
     "output_type": "execute_result"
    }
   ],
   "source": [
    "x[:,1,:]"
   ]
  },
  {
   "cell_type": "markdown",
   "id": "169f6230-a255-4174-a189-d04d32822209",
   "metadata": {},
   "source": [
    "## Pytorch tensors & Numpy\n",
    "\n",
    "NumPy is a a popular scientific Python numerical computing library.\n",
    "\n",
    "And because of this, Pytorch has functionlity to interact with it.\n",
    "\n",
    "* Data in Numpy, want in Pytorch tensor -> `torch.from_numpy(ndarray)`\n",
    "* Pytorch tensor -> Numpy -> `torch.Tensor.numpy()`"
   ]
  },
  {
   "cell_type": "code",
   "execution_count": 18,
   "id": "0070e4ca-1785-4c38-8d02-4ab92ac869f8",
   "metadata": {},
   "outputs": [
    {
     "data": {
      "text/plain": [
       "(array([1., 2., 3., 4., 5., 6., 7.]),\n",
       " tensor([1., 2., 3., 4., 5., 6., 7.], dtype=torch.float64))"
      ]
     },
     "execution_count": 18,
     "metadata": {},
     "output_type": "execute_result"
    }
   ],
   "source": [
    "import torch\n",
    "import numpy as np\n",
    "\n",
    "array = np.arange(1.,8.)\n",
    "tensor = torch.from_numpy(array)\n",
    "\n",
    "array, tensor"
   ]
  },
  {
   "cell_type": "code",
   "execution_count": 19,
   "id": "6b5a3ea6-00fa-466c-97cc-99ef12bd04d3",
   "metadata": {},
   "outputs": [
    {
     "data": {
      "text/plain": [
       "(dtype('float64'), torch.float64)"
      ]
     },
     "execution_count": 19,
     "metadata": {},
     "output_type": "execute_result"
    }
   ],
   "source": [
    "array.dtype, tensor.dtype"
   ]
  },
  {
   "cell_type": "code",
   "execution_count": 20,
   "id": "4d2619c6-dc48-42a4-b47b-a4b2ed6c368a",
   "metadata": {},
   "outputs": [
    {
     "data": {
      "text/plain": [
       "torch.float32"
      ]
     },
     "execution_count": 20,
     "metadata": {},
     "output_type": "execute_result"
    }
   ],
   "source": [
    "torch.arange(1.,8.).dtype"
   ]
  },
  {
   "cell_type": "code",
   "execution_count": 21,
   "id": "508255be-565a-43f7-abe6-a5c8cee6b268",
   "metadata": {},
   "outputs": [
    {
     "data": {
      "text/plain": [
       "(array([ 2.,  4.,  6.,  8., 10., 12., 14.]),\n",
       " tensor([ 2.,  4.,  6.,  8., 10., 12., 14.], dtype=torch.float64))"
      ]
     },
     "execution_count": 21,
     "metadata": {},
     "output_type": "execute_result"
    }
   ],
   "source": [
    "array += array\n",
    "\n",
    "array, tensor"
   ]
  },
  {
   "cell_type": "code",
   "execution_count": 24,
   "id": "b6b89010-54a0-4365-a15f-4e49bda882e6",
   "metadata": {},
   "outputs": [
    {
     "data": {
      "text/plain": [
       "(tensor([1., 1., 1., 1., 1., 1., 1.]),\n",
       " array([1., 1., 1., 1., 1., 1., 1.], dtype=float32))"
      ]
     },
     "execution_count": 24,
     "metadata": {},
     "output_type": "execute_result"
    }
   ],
   "source": [
    "tensor = torch.ones(7)\n",
    "\n",
    "numpy_tensor = tensor.numpy()\n",
    "\n",
    "tensor, numpy_tensor"
   ]
  },
  {
   "cell_type": "code",
   "execution_count": 25,
   "id": "ff455f08-cf63-400f-ba32-a6c3d57662ca",
   "metadata": {},
   "outputs": [
    {
     "data": {
      "text/plain": [
       "(tensor([2., 2., 2., 2., 2., 2., 2.]),\n",
       " array([2., 2., 2., 2., 2., 2., 2.], dtype=float32))"
      ]
     },
     "execution_count": 25,
     "metadata": {},
     "output_type": "execute_result"
    }
   ],
   "source": [
    "tensor += 1\n",
    "\n",
    "tensor, numpy_tensor"
   ]
  },
  {
   "cell_type": "markdown",
   "id": "eded3b34-caff-462d-beb6-3205daf41e36",
   "metadata": {},
   "source": [
    "## trying to take random out of random\n",
    "\n",
    "In short how a neural network learns:\n",
    "\n",
    "`start with random numbers  -> tensors operations  -> update random numbers to try and make them of the data -> again -> again ...`\n",
    "\n",
    "To reduce randomness in neural network and Pytorch comes the concept of a **random seedd**\n",
    "\n",
    "\n",
    "Essentially what the random seedd does is \"flavour\" the randomness"
   ]
  },
  {
   "cell_type": "code",
   "execution_count": 47,
   "id": "5b803ea9-70df-4f15-9fdd-9402c1929ea5",
   "metadata": {},
   "outputs": [
    {
     "name": "stdout",
     "output_type": "stream",
     "text": [
      "tensor([[0.9811, 0.0874, 0.0041, 0.1088],\n",
      "        [0.1637, 0.7025, 0.6790, 0.9155],\n",
      "        [0.2418, 0.1591, 0.7653, 0.2979]])\n",
      "tensor([[0.8035, 0.3813, 0.7860, 0.1115],\n",
      "        [0.2477, 0.6524, 0.6057, 0.3725],\n",
      "        [0.7980, 0.8399, 0.1374, 0.2331]])\n",
      "tensor([[False, False, False, False],\n",
      "        [False, False, False, False],\n",
      "        [False, False, False, False]])\n"
     ]
    }
   ],
   "source": [
    "import torch\n",
    "\n",
    "random_tensor_A = torch.rand(3,4)\n",
    "random_tensor_B = torch.rand(3,4)\n",
    "\n",
    "print(random_tensor_A)\n",
    "print(random_tensor_B)\n",
    "print(random_tensor_A == random_tensor_B)"
   ]
  },
  {
   "cell_type": "code",
   "execution_count": 82,
   "id": "d767b8e9-7c87-4757-b5d8-4c4790657349",
   "metadata": {},
   "outputs": [
    {
     "name": "stdout",
     "output_type": "stream",
     "text": [
      "tensor([[0.8823, 0.9150, 0.3829, 0.9593],\n",
      "        [0.3904, 0.6009, 0.2566, 0.7936],\n",
      "        [0.9408, 0.1332, 0.9346, 0.5936]])\n",
      "tensor([[0.8694, 0.5677, 0.7411, 0.4294],\n",
      "        [0.8854, 0.5739, 0.2666, 0.6274],\n",
      "        [0.2696, 0.4414, 0.2969, 0.8317]])\n",
      "tensor([[False, False, False, False],\n",
      "        [False, False, False, False],\n",
      "        [False, False, False, False]])\n"
     ]
    }
   ],
   "source": [
    "import torch\n",
    "\n",
    "RANDOM_SEED = 42\n",
    "torch.manual_seed(RANDOM_SEED)\n",
    "random_tensor_C = torch.rand(3,4)\n",
    "# torch.manual_seed(RANDOM_SEED)\n",
    "random_tensor_D = torch.rand(3,4)\n",
    "\n",
    "print(random_tensor_C)\n",
    "print(random_tensor_D)\n",
    "print(random_tensor_C == random_tensor_D)"
   ]
  },
  {
   "cell_type": "code",
   "execution_count": 83,
   "id": "3a9ce0eb-75e5-4082-a1f9-0349a14c3008",
   "metadata": {},
   "outputs": [
    {
     "name": "stdout",
     "output_type": "stream",
     "text": [
      "tensor([[0.1053, 0.2695, 0.3588, 0.1994],\n",
      "        [0.5472, 0.0062, 0.9516, 0.0753],\n",
      "        [0.8860, 0.5832, 0.3376, 0.8090]])\n"
     ]
    }
   ],
   "source": [
    "random_tensor_E = torch.rand(3,4)\n",
    "print(random_tensor_E)"
   ]
  },
  {
   "cell_type": "code",
   "execution_count": 84,
   "id": "66fd11f5-567f-4023-9c5c-005fce4ae702",
   "metadata": {},
   "outputs": [
    {
     "name": "stdout",
     "output_type": "stream",
     "text": [
      "tensor([[0.5779, 0.9040, 0.5547, 0.3423],\n",
      "        [0.6343, 0.3644, 0.7104, 0.9464],\n",
      "        [0.7890, 0.2814, 0.7886, 0.5895]])\n"
     ]
    }
   ],
   "source": [
    "random_tensor_f = torch.rand(3,4)\n",
    "print(random_tensor_f)"
   ]
  },
  {
   "cell_type": "code",
   "execution_count": 85,
   "id": "c1f88b40-4850-4cac-819d-1ceb47daa662",
   "metadata": {},
   "outputs": [
    {
     "name": "stdout",
     "output_type": "stream",
     "text": [
      "tensor([[0.7539, 0.1952, 0.0050, 0.3068],\n",
      "        [0.1165, 0.9103, 0.6440, 0.7071],\n",
      "        [0.6581, 0.4913, 0.8913, 0.1447]])\n"
     ]
    }
   ],
   "source": [
    "random_tensor_a = torch.rand(3,4)\n",
    "print(random_tensor_a)"
   ]
  },
  {
   "cell_type": "code",
   "execution_count": 86,
   "id": "cb1d0e66-69c0-4de9-a98a-a9abc5445998",
   "metadata": {},
   "outputs": [
    {
     "name": "stdout",
     "output_type": "stream",
     "text": [
      "tensor([[0.5315, 0.1587, 0.6542, 0.3278],\n",
      "        [0.6532, 0.3958, 0.9147, 0.2036],\n",
      "        [0.2018, 0.2018, 0.9497, 0.6666]])\n"
     ]
    }
   ],
   "source": [
    "random_tensor_b = torch.rand(3,4)\n",
    "print(random_tensor_b)"
   ]
  },
  {
   "cell_type": "markdown",
   "id": "10fcb65e-0f19-42a2-9f86-956229daeeaa",
   "metadata": {},
   "source": [
    "## GPUs\n",
    "\n",
    "\n",
    "GPUs = faster computation on numbers"
   ]
  },
  {
   "cell_type": "code",
   "execution_count": 88,
   "id": "298e6c8f-50af-4b3e-a680-a29a8d1d1d9a",
   "metadata": {},
   "outputs": [
    {
     "data": {
      "text/plain": [
       "False"
      ]
     },
     "execution_count": 88,
     "metadata": {},
     "output_type": "execute_result"
    }
   ],
   "source": [
    "torch.cuda.is_available()"
   ]
  },
  {
   "cell_type": "code",
   "execution_count": 89,
   "id": "655b8dc1-67a7-447c-9e06-adb23d82b82e",
   "metadata": {},
   "outputs": [
    {
     "name": "stdout",
     "output_type": "stream",
     "text": [
      "/bin/bash: nvidia-smi: command not found\n"
     ]
    }
   ],
   "source": [
    "!nvidia-smi"
   ]
  },
  {
   "cell_type": "code",
   "execution_count": 90,
   "id": "82612fd3-ae23-4c53-99b5-17a8fbce35a7",
   "metadata": {},
   "outputs": [
    {
     "data": {
      "text/plain": [
       "'cpu'"
      ]
     },
     "execution_count": 90,
     "metadata": {},
     "output_type": "execute_result"
    }
   ],
   "source": [
    "device = 'cuda' if torch.cuda.is_available() else 'cpu'\n",
    "device"
   ]
  },
  {
   "cell_type": "code",
   "execution_count": 91,
   "id": "dec11a4a-c78f-4a4b-9949-978d383e3fac",
   "metadata": {},
   "outputs": [
    {
     "data": {
      "text/plain": [
       "0"
      ]
     },
     "execution_count": 91,
     "metadata": {},
     "output_type": "execute_result"
    }
   ],
   "source": [
    "torch.cuda.device_count()"
   ]
  },
  {
   "cell_type": "markdown",
   "id": "38a164fc-3e77-4801-bf1b-5e4c33d178c2",
   "metadata": {},
   "source": [
    "## "
   ]
  }
 ],
 "metadata": {
  "kernelspec": {
   "display_name": "torch",
   "language": "python",
   "name": "torch"
  },
  "language_info": {
   "codemirror_mode": {
    "name": "ipython",
    "version": 3
   },
   "file_extension": ".py",
   "mimetype": "text/x-python",
   "name": "python",
   "nbconvert_exporter": "python",
   "pygments_lexer": "ipython3",
   "version": "3.8.15"
  }
 },
 "nbformat": 4,
 "nbformat_minor": 5
}
